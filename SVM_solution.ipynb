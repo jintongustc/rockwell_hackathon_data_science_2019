{
 "cells": [
  {
   "cell_type": "markdown",
   "metadata": {},
   "source": [
    "## Anormaly detection by RockWell automation data science hackathon\n",
    "\n",
    "This is the data science problem, the problem introduction was attached, and the data could be download here:\n",
    "https://drive.google.com/open?id=1J32ICsHzggetwZbjYLGAVQ8TRL8nprjZ\n"
   ]
  },
  {
   "cell_type": "markdown",
   "metadata": {},
   "source": [
    "## Prepare data"
   ]
  },
  {
   "cell_type": "code",
   "execution_count": 1,
   "metadata": {},
   "outputs": [],
   "source": [
    "import json\n",
    "import glob\n",
    "import pandas as pd\n",
    "import numpy as np\n",
    "import scipy.optimize as opt\n",
    "from sklearn import preprocessing\n",
    "from sklearn.model_selection import train_test_split\n",
    "%matplotlib inline \n",
    "import matplotlib.pyplot as plt\n",
    "datapath = '../Data/raw_splitfiles/'"
   ]
  },
  {
   "cell_type": "code",
   "execution_count": 2,
   "metadata": {},
   "outputs": [
    {
     "name": "stdout",
     "output_type": "stream",
     "text": [
      "0:Date_Time\n",
      "1:Product_ID\n",
      "2:User_Name\n",
      "3:bicoe_load_dttm\n",
      "4:file_name\n",
      "5:file_timestamp\n",
      "6:hdfs_file_name\n",
      "7:location\n",
      "8:tooltype\n",
      "9:ulCornerToleranceFailure\n",
      "10:ulPossibleMissing\n",
      "11:ulPurged\n",
      "12:ulRejects\n",
      "13:ulVPSHeightFailure\n",
      "14:ulVPSPartPresenceFailure\n",
      "15:ulballcountfailure\n",
      "16:ulcomplocationfailure\n",
      "17:ulcompmissing\n",
      "18:ulcompsizefailure\n",
      "19:ulcompupsidedown\n",
      "20:ulfeaturecountfailure\n",
      "21:ulfeaturelocationfailure\n",
      "22:ulfeaturespacingfailure\n",
      "23:ulleadcountfailure\n",
      "24:ulleaddeviationfailure\n",
      "25:ulleadlocationfailure\n",
      "26:ulleadspacingfailure\n",
      "27:ulleadspanfailure\n",
      "28:ulorientationcheckfailure\n",
      "29:ulpicks\n",
      "30:ulpitchfailure\n",
      "31:ulplacements\n",
      "32:xml_stat_cd\n",
      "33:xml_tag_id\n",
      "34:xml_tag_nm\n"
     ]
    }
   ],
   "source": [
    "# list the keys\n",
    "with open(\"../Data/raw_splitfiles/101_0.json\") as f:\n",
    "    data = json.load(f)\n",
    "\n",
    "keys = list(data[0].keys())\n",
    "for i, key in enumerate(keys):\n",
    "    print(str(i) + ':' + key)\n",
    "del data"
   ]
  },
  {
   "cell_type": "code",
   "execution_count": 3,
   "metadata": {},
   "outputs": [],
   "source": [
    "# get the files sorted\n",
    "files = glob.glob(\"../Data/raw_splitfiles/*.json\")\n",
    "#files = sorted(files, key=lambda name: int(name[23:26])*1000+int(name[27:-5]))\n",
    "# any in failure_list not equal 0, then failure = 1\n",
    "failure_list = [10,13,14,15,16,18,20,23,24,26]"
   ]
  },
  {
   "cell_type": "code",
   "execution_count": 4,
   "metadata": {},
   "outputs": [],
   "source": [
    "# read the data from json file to dataframe\n",
    "import datetime\n",
    "d = {}\n",
    "d['Date_Time'] = []\n",
    "d['machine_id'] = []\n",
    "d['manu_id'] = []\n",
    "d['ulpicks'] = []\n",
    "d['ulRejects'] = []\n",
    "d['ulplacements'] = []\n",
    "d['failure'] = []\n",
    "d['location'] = []\n",
    "d['id'] = []\n",
    "for file in files:\n",
    "    with open(file) as f:\n",
    "        data_1stamp = json.load(f)\n",
    "        for nozzle in data_1stamp:\n",
    "            time = nozzle['Date_Time']\n",
    "            date_time_obj = datetime.datetime.strptime(time.split('.')[0], '%Y-%m-%dT%H:%M:%S')\n",
    "            d['Date_Time'].append(date_time_obj)\n",
    "            d['ulpicks'].append(int(nozzle['ulpicks']))\n",
    "            d['ulRejects'].append(int(nozzle['ulRejects']))\n",
    "            d['ulplacements'].append(int(nozzle['ulplacements']))\n",
    "            failure = 0\n",
    "            for i in failure_list:\n",
    "                key = keys[i]\n",
    "                if nozzle[key]:\n",
    "                    failure = 1\n",
    "            d['failure'].append(failure)\n",
    "            xml = nozzle['xml_tag_nm'].split('-')\n",
    "            d['machine_id'].append(xml[3])\n",
    "            d['manu_id'].append(xml[2])\n",
    "            d['location'].append(nozzle['location'])\n",
    "            d['id'].append(xml[2] +'-'+ xml[3]+'-' + nozzle['location'])\n",
    "\n",
    "            "
   ]
  },
  {
   "cell_type": "code",
   "execution_count": 5,
   "metadata": {},
   "outputs": [],
   "source": [
    "# sort the data by time\n",
    "df = pd.DataFrame(data=d)\n",
    "df = df.sort_values(by=['Date_Time'])\n",
    "df = df.reset_index(drop=True)"
   ]
  },
  {
   "cell_type": "code",
   "execution_count": 6,
   "metadata": {},
   "outputs": [
    {
     "data": {
      "text/html": [
       "<div>\n",
       "<style scoped>\n",
       "    .dataframe tbody tr th:only-of-type {\n",
       "        vertical-align: middle;\n",
       "    }\n",
       "\n",
       "    .dataframe tbody tr th {\n",
       "        vertical-align: top;\n",
       "    }\n",
       "\n",
       "    .dataframe thead th {\n",
       "        text-align: right;\n",
       "    }\n",
       "</style>\n",
       "<table border=\"1\" class=\"dataframe\">\n",
       "  <thead>\n",
       "    <tr style=\"text-align: right;\">\n",
       "      <th></th>\n",
       "      <th>Date_Time</th>\n",
       "      <th>machine_id</th>\n",
       "      <th>manu_id</th>\n",
       "      <th>ulpicks</th>\n",
       "      <th>ulRejects</th>\n",
       "      <th>ulplacements</th>\n",
       "      <th>failure</th>\n",
       "      <th>location</th>\n",
       "      <th>id</th>\n",
       "    </tr>\n",
       "  </thead>\n",
       "  <tbody>\n",
       "    <tr>\n",
       "      <td>0</td>\n",
       "      <td>2019-10-28 09:17:54</td>\n",
       "      <td>gc3</td>\n",
       "      <td>meq</td>\n",
       "      <td>7</td>\n",
       "      <td>0</td>\n",
       "      <td>7</td>\n",
       "      <td>0</td>\n",
       "      <td>0,2,32</td>\n",
       "      <td>meq-gc3-0,2,32</td>\n",
       "    </tr>\n",
       "    <tr>\n",
       "      <td>1</td>\n",
       "      <td>2019-10-28 09:17:54</td>\n",
       "      <td>gc3</td>\n",
       "      <td>meq</td>\n",
       "      <td>8</td>\n",
       "      <td>0</td>\n",
       "      <td>8</td>\n",
       "      <td>0</td>\n",
       "      <td>0,2,10</td>\n",
       "      <td>meq-gc3-0,2,10</td>\n",
       "    </tr>\n",
       "    <tr>\n",
       "      <td>2</td>\n",
       "      <td>2019-10-28 09:17:54</td>\n",
       "      <td>gc3</td>\n",
       "      <td>meq</td>\n",
       "      <td>8</td>\n",
       "      <td>0</td>\n",
       "      <td>8</td>\n",
       "      <td>0</td>\n",
       "      <td>0,2,11</td>\n",
       "      <td>meq-gc3-0,2,11</td>\n",
       "    </tr>\n",
       "    <tr>\n",
       "      <td>3</td>\n",
       "      <td>2019-10-28 09:17:54</td>\n",
       "      <td>gc3</td>\n",
       "      <td>meq</td>\n",
       "      <td>8</td>\n",
       "      <td>0</td>\n",
       "      <td>8</td>\n",
       "      <td>0</td>\n",
       "      <td>0,2,13</td>\n",
       "      <td>meq-gc3-0,2,13</td>\n",
       "    </tr>\n",
       "    <tr>\n",
       "      <td>4</td>\n",
       "      <td>2019-10-28 09:17:54</td>\n",
       "      <td>gc3</td>\n",
       "      <td>meq</td>\n",
       "      <td>8</td>\n",
       "      <td>0</td>\n",
       "      <td>8</td>\n",
       "      <td>0</td>\n",
       "      <td>0,2,14</td>\n",
       "      <td>meq-gc3-0,2,14</td>\n",
       "    </tr>\n",
       "    <tr>\n",
       "      <td>...</td>\n",
       "      <td>...</td>\n",
       "      <td>...</td>\n",
       "      <td>...</td>\n",
       "      <td>...</td>\n",
       "      <td>...</td>\n",
       "      <td>...</td>\n",
       "      <td>...</td>\n",
       "      <td>...</td>\n",
       "      <td>...</td>\n",
       "    </tr>\n",
       "    <tr>\n",
       "      <td>393128</td>\n",
       "      <td>2019-11-26 03:15:02</td>\n",
       "      <td>gc5</td>\n",
       "      <td>twb</td>\n",
       "      <td>108</td>\n",
       "      <td>0</td>\n",
       "      <td>107</td>\n",
       "      <td>0</td>\n",
       "      <td>0,3,11</td>\n",
       "      <td>twb-gc5-0,3,11</td>\n",
       "    </tr>\n",
       "    <tr>\n",
       "      <td>393129</td>\n",
       "      <td>2019-11-26 03:15:02</td>\n",
       "      <td>gc5</td>\n",
       "      <td>twb</td>\n",
       "      <td>119</td>\n",
       "      <td>0</td>\n",
       "      <td>119</td>\n",
       "      <td>0</td>\n",
       "      <td>0,2,44</td>\n",
       "      <td>twb-gc5-0,2,44</td>\n",
       "    </tr>\n",
       "    <tr>\n",
       "      <td>393130</td>\n",
       "      <td>2019-11-26 03:15:02</td>\n",
       "      <td>gc10</td>\n",
       "      <td>twb</td>\n",
       "      <td>17</td>\n",
       "      <td>0</td>\n",
       "      <td>17</td>\n",
       "      <td>0</td>\n",
       "      <td>0,0,12</td>\n",
       "      <td>twb-gc10-0,0,12</td>\n",
       "    </tr>\n",
       "    <tr>\n",
       "      <td>393131</td>\n",
       "      <td>2019-11-26 03:15:02</td>\n",
       "      <td>gc10</td>\n",
       "      <td>twb</td>\n",
       "      <td>22</td>\n",
       "      <td>4</td>\n",
       "      <td>18</td>\n",
       "      <td>0</td>\n",
       "      <td>0,1,24</td>\n",
       "      <td>twb-gc10-0,1,24</td>\n",
       "    </tr>\n",
       "    <tr>\n",
       "      <td>393132</td>\n",
       "      <td>2019-11-26 03:15:02</td>\n",
       "      <td>gc8</td>\n",
       "      <td>twb</td>\n",
       "      <td>73</td>\n",
       "      <td>0</td>\n",
       "      <td>73</td>\n",
       "      <td>0</td>\n",
       "      <td>0,2,65</td>\n",
       "      <td>twb-gc8-0,2,65</td>\n",
       "    </tr>\n",
       "  </tbody>\n",
       "</table>\n",
       "<p>393133 rows × 9 columns</p>\n",
       "</div>"
      ],
      "text/plain": [
       "                 Date_Time machine_id manu_id  ulpicks  ulRejects  \\\n",
       "0      2019-10-28 09:17:54        gc3     meq        7          0   \n",
       "1      2019-10-28 09:17:54        gc3     meq        8          0   \n",
       "2      2019-10-28 09:17:54        gc3     meq        8          0   \n",
       "3      2019-10-28 09:17:54        gc3     meq        8          0   \n",
       "4      2019-10-28 09:17:54        gc3     meq        8          0   \n",
       "...                    ...        ...     ...      ...        ...   \n",
       "393128 2019-11-26 03:15:02        gc5     twb      108          0   \n",
       "393129 2019-11-26 03:15:02        gc5     twb      119          0   \n",
       "393130 2019-11-26 03:15:02       gc10     twb       17          0   \n",
       "393131 2019-11-26 03:15:02       gc10     twb       22          4   \n",
       "393132 2019-11-26 03:15:02        gc8     twb       73          0   \n",
       "\n",
       "        ulplacements  failure location               id  \n",
       "0                  7        0   0,2,32   meq-gc3-0,2,32  \n",
       "1                  8        0   0,2,10   meq-gc3-0,2,10  \n",
       "2                  8        0   0,2,11   meq-gc3-0,2,11  \n",
       "3                  8        0   0,2,13   meq-gc3-0,2,13  \n",
       "4                  8        0   0,2,14   meq-gc3-0,2,14  \n",
       "...              ...      ...      ...              ...  \n",
       "393128           107        0   0,3,11   twb-gc5-0,3,11  \n",
       "393129           119        0   0,2,44   twb-gc5-0,2,44  \n",
       "393130            17        0   0,0,12  twb-gc10-0,0,12  \n",
       "393131            18        0   0,1,24  twb-gc10-0,1,24  \n",
       "393132            73        0   0,2,65   twb-gc8-0,2,65  \n",
       "\n",
       "[393133 rows x 9 columns]"
      ]
     },
     "execution_count": 6,
     "metadata": {},
     "output_type": "execute_result"
    }
   ],
   "source": [
    "# show the data\n",
    "df"
   ]
  },
  {
   "cell_type": "code",
   "execution_count": 7,
   "metadata": {},
   "outputs": [],
   "source": [
    "# select the meq-gc3 machine for the training, most of the data from the machine\n",
    "df_select = df[df['machine_id'] == 'gc3']\n",
    "df_select = df_select[df_select['manu_id'] == 'meq']\n",
    "ids = set(df_select['id'])"
   ]
  },
  {
   "cell_type": "code",
   "execution_count": 8,
   "metadata": {},
   "outputs": [
    {
     "data": {
      "text/plain": [
       "{'meq-gc3-0,2,14': [0, 0],\n",
       " 'meq-gc3-0,0,59': [0, 0],\n",
       " 'meq-gc3-0,3,8': [0, 0],\n",
       " 'meq-gc3-0,2,16': [0, 0],\n",
       " 'meq-gc3-0,0,50': [0, 0],\n",
       " 'meq-gc3-0,0,45': [0, 0],\n",
       " 'meq-gc3-0,1,36': [0, 0],\n",
       " 'meq-gc3-0,1,2': [0, 0],\n",
       " 'meq-gc3-0,2,27': [0, 0],\n",
       " 'meq-gc3-0,2,13': [0, 0],\n",
       " 'meq-gc3-0,2,21': [0, 0],\n",
       " 'meq-gc3-0,0,66': [0, 0],\n",
       " 'meq-gc3-0,0,26': [0, 0],\n",
       " 'meq-gc3-0,1,34': [0, 0],\n",
       " 'meq-gc3-0,2,42': [0, 0],\n",
       " 'meq-gc3-0,0,37': [0, 0],\n",
       " 'meq-gc3-0,2,23': [0, 0],\n",
       " 'meq-gc3-0,1,3': [0, 0],\n",
       " 'meq-gc3-0,2,46': [0, 0],\n",
       " 'meq-gc3-0,2,64': [0, 0],\n",
       " 'meq-gc3-0,3,12': [0, 0],\n",
       " 'meq-gc3-0,2,10': [0, 0],\n",
       " 'meq-gc3-0,2,34': [0, 0],\n",
       " 'meq-gc3-0,0,55': [0, 0],\n",
       " 'meq-gc3-0,0,38': [0, 0],\n",
       " 'meq-gc3-0,2,38': [0, 0],\n",
       " 'meq-gc3-0,3,50': [0, 0],\n",
       " 'meq-gc3-0,1,19': [0, 0],\n",
       " 'meq-gc3-0,3,31': [0, 0],\n",
       " 'meq-gc3-0,0,36': [0, 0],\n",
       " 'meq-gc3-0,0,35': [0, 0],\n",
       " 'meq-gc3-0,2,50': [0, 0],\n",
       " 'meq-gc3-0,3,36': [0, 0],\n",
       " 'meq-gc3-0,3,53': [0, 0],\n",
       " 'meq-gc3-0,1,30': [0, 0],\n",
       " 'meq-gc3-0,3,35': [0, 0],\n",
       " 'meq-gc3-0,0,52': [0, 0],\n",
       " 'meq-gc3-0,1,0': [0, 0],\n",
       " 'meq-gc3-0,0,47': [0, 0],\n",
       " 'meq-gc3-0,2,53': [0, 0],\n",
       " 'meq-gc3-0,2,61': [0, 0],\n",
       " 'meq-gc3-0,0,14': [0, 0],\n",
       " 'meq-gc3-0,2,28': [0, 0],\n",
       " 'meq-gc3-0,2,26': [0, 0],\n",
       " 'meq-gc3-0,3,19': [0, 0],\n",
       " 'meq-gc3-0,2,31': [0, 0],\n",
       " 'meq-gc3-0,3,32': [0, 0],\n",
       " 'meq-gc3-0,0,67': [0, 0],\n",
       " 'meq-gc3-0,2,45': [0, 0],\n",
       " 'meq-gc3-0,2,47': [0, 0],\n",
       " 'meq-gc3-0,3,39': [0, 0],\n",
       " 'meq-gc3-0,2,54': [0, 0],\n",
       " 'meq-gc3-0,2,15': [0, 0],\n",
       " 'meq-gc3-0,0,23': [0, 0],\n",
       " 'meq-gc3-0,0,30': [0, 0],\n",
       " 'meq-gc3-0,2,33': [0, 0],\n",
       " 'meq-gc3-0,0,33': [0, 0],\n",
       " 'meq-gc3-0,0,13': [0, 0],\n",
       " 'meq-gc3-0,0,22': [0, 0],\n",
       " 'meq-gc3-0,3,38': [0, 0],\n",
       " 'meq-gc3-0,0,24': [0, 0],\n",
       " 'meq-gc3-0,1,33': [0, 0],\n",
       " 'meq-gc3-0,0,29': [0, 0],\n",
       " 'meq-gc3-0,2,39': [0, 0],\n",
       " 'meq-gc3-0,1,38': [0, 0],\n",
       " 'meq-gc3-0,2,18': [0, 0],\n",
       " 'meq-gc3-0,0,42': [0, 0],\n",
       " 'meq-gc3-0,3,4': [0, 0],\n",
       " 'meq-gc3-0,1,14': [0, 0],\n",
       " 'meq-gc3-0,1,15': [0, 0],\n",
       " 'meq-gc3-0,0,57': [0, 0],\n",
       " 'meq-gc3-0,2,25': [0, 0],\n",
       " 'meq-gc3-0,0,18': [0, 0],\n",
       " 'meq-gc3-0,3,30': [0, 0],\n",
       " 'meq-gc3-0,2,41': [0, 0],\n",
       " 'meq-gc3-0,3,10': [0, 0],\n",
       " 'meq-gc3-0,0,19': [0, 0],\n",
       " 'meq-gc3-0,0,21': [0, 0],\n",
       " 'meq-gc3-0,2,55': [0, 0],\n",
       " 'meq-gc3-0,1,7': [0, 0],\n",
       " 'meq-gc3-0,2,51': [0, 0],\n",
       " 'meq-gc3-0,0,32': [0, 0],\n",
       " 'meq-gc3-0,3,13': [0, 0],\n",
       " 'meq-gc3-0,2,66': [0, 0],\n",
       " 'meq-gc3-0,3,6': [0, 0],\n",
       " 'meq-gc3-0,1,16': [0, 0],\n",
       " 'meq-gc3-0,0,28': [0, 0],\n",
       " 'meq-gc3-0,2,19': [0, 0],\n",
       " 'meq-gc3-0,2,60': [0, 0],\n",
       " 'meq-gc3-0,3,46': [0, 0],\n",
       " 'meq-gc3-0,2,52': [0, 0],\n",
       " 'meq-gc3-0,1,1': [0, 0],\n",
       " 'meq-gc3-0,1,37': [0, 0],\n",
       " 'meq-gc3-0,0,60': [0, 0],\n",
       " 'meq-gc3-0,0,39': [0, 0],\n",
       " 'meq-gc3-0,0,31': [0, 0],\n",
       " 'meq-gc3-0,2,59': [0, 0],\n",
       " 'meq-gc3-0,2,69': [0, 0],\n",
       " 'meq-gc3-0,3,14': [0, 0],\n",
       " 'meq-gc3-0,3,37': [0, 0],\n",
       " 'meq-gc3-0,3,7': [0, 0],\n",
       " 'meq-gc3-0,2,67': [0, 0],\n",
       " 'meq-gc3-0,3,11': [0, 0],\n",
       " 'meq-gc3-0,3,9': [0, 0],\n",
       " 'meq-gc3-0,0,68': [0, 0],\n",
       " 'meq-gc3-0,2,11': [0, 0],\n",
       " 'meq-gc3-0,2,49': [0, 0],\n",
       " 'meq-gc3-0,2,30': [0, 0],\n",
       " 'meq-gc3-0,0,58': [0, 0],\n",
       " 'meq-gc3-0,3,1': [0, 0],\n",
       " 'meq-gc3-0,0,62': [0, 0],\n",
       " 'meq-gc3-0,3,2': [0, 0],\n",
       " 'meq-gc3-0,3,16': [0, 0],\n",
       " 'meq-gc3-0,2,17': [0, 0],\n",
       " 'meq-gc3-0,0,56': [0, 0],\n",
       " 'meq-gc3-0,0,44': [0, 0],\n",
       " 'meq-gc3-0,2,20': [0, 0],\n",
       " 'meq-gc3-0,0,40': [0, 0],\n",
       " 'meq-gc3-0,1,13': [0, 0],\n",
       " 'meq-gc3-0,2,36': [0, 0],\n",
       " 'meq-gc3-0,0,11': [0, 0],\n",
       " 'meq-gc3-0,3,45': [0, 0],\n",
       " 'meq-gc3-0,3,5': [0, 0],\n",
       " 'meq-gc3-0,1,5': [0, 0],\n",
       " 'meq-gc3-0,3,47': [0, 0],\n",
       " 'meq-gc3-0,2,63': [0, 0],\n",
       " 'meq-gc3-0,3,34': [0, 0],\n",
       " 'meq-gc3-0,0,25': [0, 0],\n",
       " 'meq-gc3-0,2,22': [0, 0],\n",
       " 'meq-gc3-0,1,18': [0, 0],\n",
       " 'meq-gc3-0,0,64': [0, 0],\n",
       " 'meq-gc3-0,0,41': [0, 0],\n",
       " 'meq-gc3-0,0,69': [0, 0],\n",
       " 'meq-gc3-0,2,43': [0, 0],\n",
       " 'meq-gc3-0,1,35': [0, 0],\n",
       " 'meq-gc3-0,0,61': [0, 0],\n",
       " 'meq-gc3-0,0,63': [0, 0],\n",
       " 'meq-gc3-0,1,11': [0, 0],\n",
       " 'meq-gc3-0,2,35': [0, 0],\n",
       " 'meq-gc3-0,2,65': [0, 0],\n",
       " 'meq-gc3-0,2,56': [0, 0],\n",
       " 'meq-gc3-0,2,40': [0, 0],\n",
       " 'meq-gc3-0,2,68': [0, 0],\n",
       " 'meq-gc3-0,1,45': [0, 0],\n",
       " 'meq-gc3-0,2,37': [0, 0],\n",
       " 'meq-gc3-0,0,17': [0, 0],\n",
       " 'meq-gc3-0,2,44': [0, 0],\n",
       " 'meq-gc3-0,2,9': [0, 0],\n",
       " 'meq-gc3-0,1,8': [0, 0],\n",
       " 'meq-gc3-0,0,12': [0, 0],\n",
       " 'meq-gc3-0,0,54': [0, 0],\n",
       " 'meq-gc3-0,0,15': [0, 0],\n",
       " 'meq-gc3-0,1,12': [0, 0],\n",
       " 'meq-gc3-0,1,39': [0, 0],\n",
       " 'meq-gc3-0,0,51': [0, 0],\n",
       " 'meq-gc3-0,3,3': [0, 0],\n",
       " 'meq-gc3-0,2,32': [0, 0],\n",
       " 'meq-gc3-0,0,16': [0, 0],\n",
       " 'meq-gc3-0,1,17': [0, 0],\n",
       " 'meq-gc3-0,2,48': [0, 0],\n",
       " 'meq-gc3-0,1,10': [0, 0],\n",
       " 'meq-gc3-0,3,15': [0, 0],\n",
       " 'meq-gc3-0,1,32': [0, 0],\n",
       " 'meq-gc3-0,0,43': [0, 0],\n",
       " 'meq-gc3-0,3,33': [0, 0],\n",
       " 'meq-gc3-0,0,10': [0, 0],\n",
       " 'meq-gc3-0,0,49': [0, 0],\n",
       " 'meq-gc3-0,0,27': [0, 0],\n",
       " 'meq-gc3-0,1,46': [0, 0],\n",
       " 'meq-gc3-0,0,34': [0, 0],\n",
       " 'meq-gc3-0,3,51': [0, 0],\n",
       " 'meq-gc3-0,2,29': [0, 0],\n",
       " 'meq-gc3-0,1,9': [0, 0],\n",
       " 'meq-gc3-0,3,52': [0, 0],\n",
       " 'meq-gc3-0,3,18': [0, 0],\n",
       " 'meq-gc3-0,2,24': [0, 0],\n",
       " 'meq-gc3-0,1,6': [0, 0],\n",
       " 'meq-gc3-0,3,17': [0, 0],\n",
       " 'meq-gc3-0,0,20': [0, 0],\n",
       " 'meq-gc3-0,2,58': [0, 0],\n",
       " 'meq-gc3-0,1,4': [0, 0],\n",
       " 'meq-gc3-0,2,57': [0, 0],\n",
       " 'meq-gc3-0,0,65': [0, 0],\n",
       " 'meq-gc3-0,0,48': [0, 0],\n",
       " 'meq-gc3-0,2,62': [0, 0],\n",
       " 'meq-gc3-0,3,0': [0, 0],\n",
       " 'meq-gc3-0,0,46': [0, 0],\n",
       " 'meq-gc3-0,0,53': [0, 0]}"
      ]
     },
     "execution_count": 8,
     "metadata": {},
     "output_type": "execute_result"
    }
   ],
   "source": [
    "# dictionary for recording the accumulation information\n",
    "dic = {}\n",
    "for key in ids:\n",
    "    dic[key] = [0,0]\n",
    "dic"
   ]
  },
  {
   "cell_type": "code",
   "execution_count": 9,
   "metadata": {},
   "outputs": [
    {
     "data": {
      "text/plain": [
       "Counter({0: 208410, 1: 1281})"
      ]
     },
     "execution_count": 9,
     "metadata": {},
     "output_type": "execute_result"
    }
   ],
   "source": [
    "# show the imbalance\n",
    "import collections\n",
    "\n",
    "cnt = collections.Counter(df_select['failure'])\n",
    "cnt"
   ]
  },
  {
   "cell_type": "code",
   "execution_count": 10,
   "metadata": {},
   "outputs": [],
   "source": [
    "X = []\n",
    "X_fourFeatures = []\n",
    "y = []\n",
    "for i, row in enumerate(df_select.values):\n",
    "    Date_Time,machine_id,manu_id,ulpicks,ulRejects,ulplacements,failure,location,Id = row\n",
    "    dic[Id][0]+=ulRejects\n",
    "    dic[Id][1]+=ulpicks\n",
    "    X.append([dic[Id][0],dic[Id][0]/dic[Id][1]])\n",
    "    X_fourFeatures.append([dic[Id][0],dic[Id][0]/dic[Id][1],ulRejects,ulRejects/ulpicks])\n",
    "    y.append(failure)\n",
    "    if failure:\n",
    "        dic[Id] = [0,0]"
   ]
  },
  {
   "cell_type": "code",
   "execution_count": 11,
   "metadata": {},
   "outputs": [],
   "source": [
    "# X is the original data, and X_fourFeatures is the data with more features\n",
    "X = np.array(X)\n",
    "X_fourFeatures = np.array(X_fourFeatures)\n",
    "y = np.array(y)\n"
   ]
  },
  {
   "cell_type": "markdown",
   "metadata": {},
   "source": [
    "## Train with the original two features"
   ]
  },
  {
   "cell_type": "code",
   "execution_count": 12,
   "metadata": {},
   "outputs": [
    {
     "name": "stdout",
     "output_type": "stream",
     "text": [
      "Train set: (167752, 2) (167752,)\n",
      "Test set: (41939, 2) (41939,)\n"
     ]
    }
   ],
   "source": [
    "# train/test\n",
    "X_train, X_test, y_train, y_test = train_test_split( X, y, test_size=0.2, random_state=4)\n",
    "print ('Train set:', X_train.shape,  y_train.shape)\n",
    "print ('Test set:', X_test.shape,  y_test.shape)"
   ]
  },
  {
   "cell_type": "code",
   "execution_count": 13,
   "metadata": {},
   "outputs": [
    {
     "name": "stderr",
     "output_type": "stream",
     "text": [
      "/home/lingling/anaconda3/lib/python3.7/site-packages/sklearn/svm/base.py:193: FutureWarning: The default value of gamma will change from 'auto' to 'scale' in version 0.22 to account better for unscaled features. Set gamma explicitly to 'auto' or 'scale' to avoid this warning.\n",
      "  \"avoid this warning.\", FutureWarning)\n"
     ]
    },
    {
     "data": {
      "text/plain": [
       "SVC(C=1.0, cache_size=200, class_weight=None, coef0=0.0,\n",
       "    decision_function_shape='ovr', degree=3, gamma='auto_deprecated',\n",
       "    kernel='rbf', max_iter=-1, probability=False, random_state=None,\n",
       "    shrinking=True, tol=0.001, verbose=False)"
      ]
     },
     "execution_count": 13,
     "metadata": {},
     "output_type": "execute_result"
    }
   ],
   "source": [
    "# svm model \n",
    "from sklearn import svm\n",
    "clf = svm.SVC(kernel='rbf')\n",
    "clf.fit(X_train, y_train) "
   ]
  },
  {
   "cell_type": "markdown",
   "metadata": {},
   "source": [
    "## Evaluate with the original two features"
   ]
  },
  {
   "cell_type": "code",
   "execution_count": 14,
   "metadata": {},
   "outputs": [
    {
     "data": {
      "text/plain": [
       "array([0, 0, 0, 0, 0])"
      ]
     },
     "execution_count": 14,
     "metadata": {},
     "output_type": "execute_result"
    }
   ],
   "source": [
    "yhat = clf.predict(X_test)\n",
    "yhat [0:5]"
   ]
  },
  {
   "cell_type": "code",
   "execution_count": 15,
   "metadata": {},
   "outputs": [],
   "source": [
    "from sklearn.metrics import classification_report, confusion_matrix\n",
    "import itertools"
   ]
  },
  {
   "cell_type": "code",
   "execution_count": 16,
   "metadata": {},
   "outputs": [],
   "source": [
    "def plot_confusion_matrix(cm, classes,\n",
    "                          normalize=False,\n",
    "                          title='Confusion matrix',\n",
    "                          cmap=plt.cm.Blues):\n",
    "    \"\"\"\n",
    "    This function prints and plots the confusion matrix.\n",
    "    Normalization can be applied by setting `normalize=True`.\n",
    "    \"\"\"\n",
    "    if normalize:\n",
    "        cm = cm.astype('float') / cm.sum(axis=1)[:, np.newaxis]\n",
    "        print(\"Normalized confusion matrix\")\n",
    "    else:\n",
    "        print('Confusion matrix, without normalization')\n",
    "\n",
    "    print(cm)\n",
    "\n",
    "    plt.imshow(cm, interpolation='nearest', cmap=cmap)\n",
    "    plt.title(title)\n",
    "    plt.colorbar()\n",
    "    tick_marks = np.arange(len(classes))\n",
    "    plt.xticks(tick_marks, classes, rotation=45)\n",
    "    plt.yticks(tick_marks, classes)\n",
    "\n",
    "    fmt = '.2f' if normalize else 'd'\n",
    "    thresh = cm.max() / 2.\n",
    "    for i, j in itertools.product(range(cm.shape[0]), range(cm.shape[1])):\n",
    "        plt.text(j, i, format(cm[i, j], fmt),\n",
    "                 horizontalalignment=\"center\",\n",
    "                 color=\"white\" if cm[i, j] > thresh else \"black\")\n",
    "\n",
    "    plt.tight_layout()\n",
    "    plt.ylabel('True label')\n",
    "    plt.xlabel('Predicted label')"
   ]
  },
  {
   "cell_type": "code",
   "execution_count": 17,
   "metadata": {},
   "outputs": [
    {
     "name": "stdout",
     "output_type": "stream",
     "text": [
      "              precision    recall  f1-score   support\n",
      "\n",
      "           0       0.99      1.00      1.00     41677\n",
      "           1       0.00      0.00      0.00       262\n",
      "\n",
      "    accuracy                           0.99     41939\n",
      "   macro avg       0.50      0.50      0.50     41939\n",
      "weighted avg       0.99      0.99      0.99     41939\n",
      "\n",
      "Confusion matrix, without normalization\n",
      "[[41677     0]\n",
      " [  262     0]]\n"
     ]
    },
    {
     "name": "stderr",
     "output_type": "stream",
     "text": [
      "/home/lingling/anaconda3/lib/python3.7/site-packages/sklearn/metrics/classification.py:1437: UndefinedMetricWarning: Precision and F-score are ill-defined and being set to 0.0 in labels with no predicted samples.\n",
      "  'precision', 'predicted', average, warn_for)\n"
     ]
    },
    {
     "data": {
      "image/png": "[encoded data removed]",
      "text/plain": [
       "<Figure size 432x288 with 2 Axes>"
      ]
     },
     "metadata": {
      "needs_background": "light"
     },
     "output_type": "display_data"
    }
   ],
   "source": [
    "# Compute confusion matrix\n",
    "cnf_matrix = confusion_matrix(y_test, yhat)\n",
    "np.set_printoptions(precision=2)\n",
    "\n",
    "print (classification_report(y_test, yhat))\n",
    "\n",
    "# Plot non-normalized confusion matrix\n",
    "plt.figure()\n",
    "plot_confusion_matrix(cnf_matrix, classes=['Normal','Anormaly'],normalize= False,  title='Confusion matrix')"
   ]
  },
  {
   "cell_type": "markdown",
   "metadata": {},
   "source": [
    "## Train with the new features"
   ]
  },
  {
   "cell_type": "code",
   "execution_count": 18,
   "metadata": {},
   "outputs": [
    {
     "name": "stdout",
     "output_type": "stream",
     "text": [
      "Train set: (167752, 4) (167752,)\n",
      "Test set: (41939, 4) (41939,)\n"
     ]
    }
   ],
   "source": [
    "# train/test\n",
    "X_train, X_test, y_train, y_test = train_test_split( X_fourFeatures, y, test_size=0.2, random_state=4)\n",
    "print ('Train set:', X_train.shape,  y_train.shape)\n",
    "print ('Test set:', X_test.shape,  y_test.shape)"
   ]
  },
  {
   "cell_type": "code",
   "execution_count": 19,
   "metadata": {},
   "outputs": [
    {
     "name": "stderr",
     "output_type": "stream",
     "text": [
      "/home/lingling/anaconda3/lib/python3.7/site-packages/sklearn/svm/base.py:193: FutureWarning: The default value of gamma will change from 'auto' to 'scale' in version 0.22 to account better for unscaled features. Set gamma explicitly to 'auto' or 'scale' to avoid this warning.\n",
      "  \"avoid this warning.\", FutureWarning)\n"
     ]
    },
    {
     "data": {
      "text/plain": [
       "SVC(C=1.0, cache_size=200, class_weight=None, coef0=0.0,\n",
       "    decision_function_shape='ovr', degree=3, gamma='auto_deprecated',\n",
       "    kernel='rbf', max_iter=-1, probability=False, random_state=None,\n",
       "    shrinking=True, tol=0.001, verbose=False)"
      ]
     },
     "execution_count": 19,
     "metadata": {},
     "output_type": "execute_result"
    }
   ],
   "source": [
    "from sklearn import svm\n",
    "clf_fourFeatures = svm.SVC(kernel='rbf')\n",
    "clf_fourFeatures.fit(X_train, y_train) "
   ]
  },
  {
   "cell_type": "code",
   "execution_count": 20,
   "metadata": {},
   "outputs": [
    {
     "data": {
      "text/plain": [
       "array([0, 0, 0, 0, 0])"
      ]
     },
     "execution_count": 20,
     "metadata": {},
     "output_type": "execute_result"
    }
   ],
   "source": [
    "yhat = clf_fourFeatures.predict(X_test)\n",
    "yhat [0:5]"
   ]
  },
  {
   "cell_type": "code",
   "execution_count": 21,
   "metadata": {},
   "outputs": [
    {
     "name": "stdout",
     "output_type": "stream",
     "text": [
      "              precision    recall  f1-score   support\n",
      "\n",
      "           0       1.00      1.00      1.00     41677\n",
      "           1       0.66      0.34      0.44       262\n",
      "\n",
      "    accuracy                           0.99     41939\n",
      "   macro avg       0.83      0.67      0.72     41939\n",
      "weighted avg       0.99      0.99      0.99     41939\n",
      "\n",
      "Confusion matrix, without normalization\n",
      "[[41631    46]\n",
      " [  174    88]]\n"
     ]
    },
    {
     "data": {
      "image/png": "[encoded data removed]",
      "text/plain": [
       "<Figure size 432x288 with 2 Axes>"
      ]
     },
     "metadata": {
      "needs_background": "light"
     },
     "output_type": "display_data"
    }
   ],
   "source": [
    "# Compute confusion matrix\n",
    "cnf_matrix = confusion_matrix(y_test, yhat)\n",
    "np.set_printoptions(precision=2)\n",
    "\n",
    "print (classification_report(y_test, yhat))\n",
    "\n",
    "# Plot non-normalized confusion matrix\n",
    "plt.figure()\n",
    "plot_confusion_matrix(cnf_matrix, classes=['Normal','Anormaly'],normalize= False,  title='Confusion matrix')"
   ]
  },
  {
   "cell_type": "markdown",
   "metadata": {},
   "source": [
    "## Train by imbalance and score ROC AUC\n"
   ]
  },
  {
   "cell_type": "code",
   "execution_count": 22,
   "metadata": {},
   "outputs": [],
   "source": [
    "from numpy import mean\n",
    "from sklearn.datasets import make_classification\n",
    "from sklearn.model_selection import cross_val_score\n",
    "from sklearn.model_selection import RepeatedStratifiedKFold\n",
    "from sklearn.svm import SVC"
   ]
  },
  {
   "cell_type": "code",
   "execution_count": 23,
   "metadata": {},
   "outputs": [
    {
     "name": "stderr",
     "output_type": "stream",
     "text": [
      "/home/lingling/anaconda3/lib/python3.7/site-packages/joblib/externals/loky/process_executor.py:706: UserWarning: A worker stopped while some jobs were given to the executor. This can be caused by a too short worker timeout or by a memory leak.\n",
      "  \"timeout or by a memory leak.\", UserWarning\n"
     ]
    },
    {
     "name": "stdout",
     "output_type": "stream",
     "text": [
      "Mean ROC AUC: 0.589\n"
     ]
    }
   ],
   "source": [
    "# define model\n",
    "model = svm.SVC(gamma='scale')\n",
    "# define evaluation procedure\n",
    "cv = RepeatedStratifiedKFold(n_splits=10, n_repeats=3, random_state=1)\n",
    "scores = cross_val_score(model, X, y, scoring='roc_auc', cv=cv, n_jobs=-1)\n",
    "# summarize performance\n",
    "print('Mean ROC AUC: %.3f' % mean(scores))"
   ]
  },
  {
   "cell_type": "code",
   "execution_count": 24,
   "metadata": {},
   "outputs": [
    {
     "name": "stdout",
     "output_type": "stream",
     "text": [
      "Mean ROC AUC: 0.989\n"
     ]
    }
   ],
   "source": [
    "# define model\n",
    "model = svm.SVC(gamma='scale')\n",
    "# define evaluation procedure\n",
    "cv = RepeatedStratifiedKFold(n_splits=10, n_repeats=3, random_state=1)\n",
    "scores = cross_val_score(model, X_fourFeatures, y, scoring='roc_auc', cv=cv, n_jobs=-1)\n",
    "# summarize performance\n",
    "print('Mean ROC AUC: %.3f' % mean(scores))\n",
    "\n",
    "# Mean ROC AUC: 0.989"
   ]
  },
  {
   "cell_type": "code",
   "execution_count": 25,
   "metadata": {},
   "outputs": [
    {
     "name": "stderr",
     "output_type": "stream",
     "text": [
      "/home/lingling/anaconda3/lib/python3.7/site-packages/joblib/externals/loky/process_executor.py:706: UserWarning: A worker stopped while some jobs were given to the executor. This can be caused by a too short worker timeout or by a memory leak.\n",
      "  \"timeout or by a memory leak.\", UserWarning\n"
     ]
    },
    {
     "name": "stdout",
     "output_type": "stream",
     "text": [
      "Mean ROC AUC: 0.990\n"
     ]
    }
   ],
   "source": [
    "# define model\n",
    "weights = {0:1.0, 1:50.0}\n",
    "model = svm.SVC(gamma='scale', class_weight=weights)\n",
    "# define evaluation procedure\n",
    "cv = RepeatedStratifiedKFold(n_splits=10, n_repeats=3, random_state=1)\n",
    "scores = cross_val_score(model, X_fourFeatures, y, scoring='roc_auc', cv=cv, n_jobs=-1)\n",
    "# summarize performance\n",
    "print('Mean ROC AUC: %.3f' % mean(scores))"
   ]
  },
  {
   "cell_type": "markdown",
   "metadata": {},
   "source": [
    "### Conclusion for the hackathon\n",
    "\n",
    "The proposed features imporved the performance. \n",
    "\n",
    "This is a solution in 24 Hr, and trained by the laptop. I have to say the solution is not perfect, but it is the only solution in the 30 teams, others either didn't understand the problem or just present the idea. Unfortunately we didn't get any prize, the team present the LSTM method get the first prize, although they didn't write one row of code."
   ]
  },
  {
   "cell_type": "code",
   "execution_count": null,
   "metadata": {},
   "outputs": [],
   "source": []
  },
  {
   "cell_type": "code",
   "execution_count": null,
   "metadata": {},
   "outputs": [],
   "source": []
  }
 ],
 "metadata": {
  "kernelspec": {
   "display_name": "Python 3",
   "language": "python",
   "name": "python3"
  },
  "language_info": {
   "codemirror_mode": {
    "name": "ipython",
    "version": 3
   },
   "file_extension": ".py",
   "mimetype": "text/x-python",
   "name": "python",
   "nbconvert_exporter": "python",
   "pygments_lexer": "ipython3",
   "version": "3.7.4"
  }
 },
 "nbformat": 4,
 "nbformat_minor": 2
}
